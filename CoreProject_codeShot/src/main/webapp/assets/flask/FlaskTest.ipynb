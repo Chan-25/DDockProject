{
 "cells": [
  {
   "cell_type": "code",
   "execution_count": null,
   "metadata": {},
   "outputs": [
    {
     "name": "stdout",
     "output_type": "stream",
     "text": [
      "receiveChat: {'user_name': 'bbbb', 'chat': '<p><b>bbbb</b></p><p>ㄴㅁㅇㄹ</p>'}\n",
      "receiveChat: {'user_name': 'bbbb', 'chat': '<p><b>bbbb</b></p><p>ㄷㄷㄷㄷ</p><p class=\"chat-time\">오전 10:37:11</p>'}\n",
      "receiveChat: {'user_name': 'bbbb', 'chat': '<p><b>bbbb</b></p><div class=\"chat-my\"><p class=\"chat-time\">오전 11:09:26</p><div class=\"chat-my-content\"><p>ㅁㅇㄴㄹ</p></div></div>'}\n",
      "receiveChat: {'user_name': 'bbbb', 'chat': '<div class=\"chat-my\"><p class=\"chat-time\">오전 11:10:31</p><div class=\"chat-my-content\"><p>ㄹㄹㄹㄹㄹ</p></div></div>'}\n",
      "receiveChat: {'user_name': 'bbbb', 'chat': '<div class=\"chat-opponent\"><div class=\"chat-opponent-content\"><p>안녕</p></div><p class=\"chat-time\">오후 12:07:58</p></div>'}\n",
      "receiveChat: {'user_name': 'bbbb', 'chat': '<div class=\"chat-opponent\"><div class=\"chat-opponent-content\"><p>안녕</p></div><p class=\"chat-time\">오후 12:11:13</p></div>'}\n",
      "receiveChat: {'user_name': 'bbbb', 'chat': '<div class=\"chat-opponent\"><div class=\"chat-opponent-content\"><p>안녕ㄷㄷㄷㄷ</p></div><p class=\"chat-time\">오후 12:12:58</p></div>'}\n",
      "receiveChat: {'user_name': 'bbbb', 'chat': '<div class=\"chat-opponent\"><div class=\"chat-opponent-content\"><p>안녕ㄷㄷㄷㄷㄱㄱㄱㄱ</p></div><p class=\"chat-time\">오후 12:13:09</p></div>'}\n",
      "receiveChat: {'user_name': 'e', 'chat': '<div class=\"chat-opponent\"><div class=\"chat-opponent-content\"><p>안녕</p></div></div>'}\n",
      "receiveChat: {'user_name': 'e', 'chat': '<div class=\"chat-opponent\"><div class=\"chat-opponent-content\"><p>안녕</p></div></div>'}\n",
      "receiveChat: {'user_name': 'e', 'chat': '<div class=\"chat-opponent\"><div class=\"chat-opponent-content\"><p>안녕</p></div></div>'}\n",
      "receiveChat: {'user_name': 'bbbb', 'chat': '<div class=\"chat-opponent\"><div class=\"chat-opponent-content\"><p>asdfasdf</p></div></div>'}\n"
     ]
    }
   ],
   "source": [
    "from flask import Flask\n",
    "from flask_socketio import SocketIO, emit\n",
    "\n",
    "app = Flask(__name__)\n",
    "socketio = SocketIO(app, port='5000',debug=True, cors_allowed_origins='*')\n",
    "\n",
    "@app.route('/')\n",
    "def sessions():\n",
    "    return 'Hello Flask!'\n",
    "\n",
    "def messageReceived():\n",
    "    print('message was received!!!')\n",
    "\n",
    "@socketio.on('sendChat')\n",
    "def handle_chat_event(json):\n",
    "    print('receiveChat: ' + str(json))\n",
    "    emit('receiveChat', json, callback=messageReceived, broadcast=True)\n",
    "    \n",
    "if __name__ == '__main__':\n",
    "    socketio.run(app, host='0.0.0.0')"
   ]
  }
 ],
 "metadata": {
  "kernelspec": {
   "display_name": "Python 3",
   "language": "python",
   "name": "python3"
  },
  "language_info": {
   "codemirror_mode": {
    "name": "ipython",
    "version": 3
   },
   "file_extension": ".py",
   "mimetype": "text/x-python",
   "name": "python",
   "nbconvert_exporter": "python",
   "pygments_lexer": "ipython3",
   "version": "3.8.3"
  }
 },
 "nbformat": 4,
 "nbformat_minor": 4
}
